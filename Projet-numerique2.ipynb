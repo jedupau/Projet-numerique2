{
 "cells": [
  {
   "cell_type": "markdown",
   "metadata": {},
   "source": [
    "# Question 1"
   ]
  },
  {
   "cell_type": "markdown",
   "metadata": {},
   "source": [
    "$x_1$ représente le nombre de proies, $x_2$ le nombre de prédateurs \\\n",
    "$\\alpha$ représente le taux de reproduction des proies \\\n",
    "$\\beta$ représente le taux de décès dus aux prédateurs \\\n",
    "$\\gamma$ représente la proportion de prédateurs décédant par sélection naturelle \\\n",
    "$\\delta$ représente la capacité reproductive des prédateurs grâce aux proies \n",
    "\n",
    "Soit $f(x_1, x_2) = (x_1(\\alpha - \\beta x_2), -x_2(\\gamma - \\delta x_1))$ \\\n",
    "On appelle point d'équilibre les points $(x_1, x_2)$ tels que $f(x_1, x_2) = 0$ \\\n",
    "On a alors $(0, 0)$ comme point d'équilibre immédiat \\\n",
    "Le 2eme point s'obtient en résolvant \n",
    "\n",
    "$\\begin{cases}\n",
    "\\alpha - \\beta x_2 =0 \\\\\n",
    "\\gamma - \\delta x_1 =0\n",
    "\\end{cases}$ \\\n",
    "On obtient alors $\\bar{x} = (\\gamma / \\delta, \\alpha / \\beta) \\in \\mathbb{R} _+^* \\times \\mathbb{R} _+^*$ "
   ]
  },
  {
   "cell_type": "code",
   "execution_count": 1,
   "metadata": {},
   "outputs": [
    {
     "ename": "SyntaxError",
     "evalue": "invalid syntax (<ipython-input-1-fc984962b399>, line 1)",
     "output_type": "error",
     "traceback": [
      "\u001b[1;36m  File \u001b[1;32m\"<ipython-input-1-fc984962b399>\"\u001b[1;36m, line \u001b[1;32m1\u001b[0m\n\u001b[1;33m    $x_1$ représente le nombre de proies, $x_2$ le nombre de prédateurs\u001b[0m\n\u001b[1;37m    ^\u001b[0m\n\u001b[1;31mSyntaxError\u001b[0m\u001b[1;31m:\u001b[0m invalid syntax\n"
     ]
    }
   ],
   "source": []
  },
  {
   "cell_type": "code",
   "execution_count": null,
   "metadata": {},
   "outputs": [],
   "source": []
  }
 ],
 "metadata": {
  "kernelspec": {
   "display_name": "Python 3",
   "language": "python",
   "name": "python3"
  },
  "language_info": {
   "codemirror_mode": {
    "name": "ipython",
    "version": 3
   },
   "file_extension": ".py",
   "mimetype": "text/x-python",
   "name": "python",
   "nbconvert_exporter": "python",
   "pygments_lexer": "ipython3",
   "version": "3.8.3"
  }
 },
 "nbformat": 4,
 "nbformat_minor": 4
}
